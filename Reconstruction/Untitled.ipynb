{
 "cells": [
  {
   "cell_type": "code",
   "execution_count": 5,
   "metadata": {},
   "outputs": [
    {
     "name": "stdout",
     "output_type": "stream",
     "text": [
      "0.0 431.0\n",
      "388.0 862.0\n",
      "819.0 1293.0\n",
      "1250.0 1724.0\n",
      "1681.0 2155.0\n",
      "2155.0 2586.0\n",
      "2543.0 3017.0\n",
      "2974.0 3448.0\n",
      "3405.0 3879.0\n",
      "3836.0 4310.0\n"
     ]
    }
   ],
   "source": [
    "num_imgs_per_strip = 2155\n",
    "num_strips = int(2*num_imgs_per_strip/num_imgs_per_strip)\n",
    "split_strip_factor = 5\n",
    "overlap = 0.1\n",
    "num_images_per_split = num_imgs_per_strip/split_strip_factor\n",
    "\n",
    "for strip in range (0,num_strips):\n",
    "    for i in range(0,split_strip_factor):\n",
    "        if i==0:\n",
    "            first_image=(strip*num_imgs_per_strip)+i*num_images_per_split\n",
    "            last_image=(strip*num_imgs_per_strip)+(i+1)*num_images_per_split\n",
    "        else:\n",
    "            first_image=((strip*num_imgs_per_strip))+i*num_images_per_split-int(num_images_per_split * overlap)\n",
    "            last_image=((strip*num_imgs_per_strip))+(i+1)*num_images_per_split\n",
    "        \n",
    "        print(first_image,last_image)"
   ]
  }
 ],
 "metadata": {
  "kernelspec": {
   "display_name": "Python 3",
   "language": "python",
   "name": "python3"
  },
  "language_info": {
   "codemirror_mode": {
    "name": "ipython",
    "version": 3
   },
   "file_extension": ".py",
   "mimetype": "text/x-python",
   "name": "python",
   "nbconvert_exporter": "python",
   "pygments_lexer": "ipython3",
   "version": "3.6.10"
  }
 },
 "nbformat": 4,
 "nbformat_minor": 4
}
