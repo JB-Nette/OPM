{
 "cells": [
  {
   "cell_type": "markdown",
   "metadata": {},
   "source": [
    "## Imports"
   ]
  },
  {
   "cell_type": "code",
   "execution_count": 48,
   "metadata": {},
   "outputs": [],
   "source": [
    "import numpy as np\n",
    "from pycromanager import Acquistion, Bridge, multi_d_acquisition_events\n",
    "from ipyfilechooser import FileChooser\n",
    "from pathlib import Path\n",
    "#from qi2lab import Tiger, Gilson, Hamilton"
   ]
  },
  {
   "cell_type": "markdown",
   "metadata": {},
   "source": [
    "## Setup bridge to MM2.0"
   ]
  },
  {
   "cell_type": "code",
   "execution_count": null,
   "metadata": {},
   "outputs": [],
   "source": [
    "bridge = Bridge()\n",
    "mmc = bridge.get_core()\n",
    "\n",
    "mmc.stop_sequence_acquistion()\n",
    "mmc.clear_circular_buffer()\n",
    "\n",
    "z_stage = mmc.get_focus_device()\n",
    "\n"
   ]
  },
  {
   "cell_type": "markdown",
   "metadata": {},
   "source": [
    "## Instrument constants"
   ]
  },
  {
   "cell_type": "code",
   "execution_count": null,
   "metadata": {},
   "outputs": [],
   "source": [
    "# instrument constants\n",
    "pixel_size = .116 # microns\n",
    "step_size = 0.200 # microns\n",
    "tile_overlap=0.2  # percentage\n",
    "lateral_FOV = 900 * pixel_size # microns\n",
    "tiger_port = 'COM13'"
   ]
  },
  {
   "cell_type": "markdown",
   "metadata": {},
   "source": [
    "## Setup lasers and exposure (user interaction)"
   ]
  },
  {
   "cell_type": "code",
   "execution_count": null,
   "metadata": {},
   "outputs": [],
   "source": [
    "exposure_ms = 5.0 # cannot be less than 5 ms for 12-bit CMS readout\n",
    "laser_state = [1,0,0,0,0]  # binary\n",
    "laser_power = [5,0,0,0,0]  # mW"
   ]
  },
  {
   "cell_type": "markdown",
   "metadata": {},
   "source": [
    "## Setup tiling (user interaction)"
   ]
  },
  {
   "cell_type": "code",
   "execution_count": 129,
   "metadata": {},
   "outputs": [],
   "source": [
    "start_x = 0.0\n",
    "end_x = 10.0\n",
    "start_y = 0.0\n",
    "end_y = 5.0"
   ]
  },
  {
   "cell_type": "markdown",
   "metadata": {},
   "source": [
    "## Setup fluidics (user interaction)\n",
    "- load file with fluidics programming"
   ]
  },
  {
   "cell_type": "code",
   "execution_count": null,
   "metadata": {},
   "outputs": [],
   "source": [
    "start_path = Path('c:\\fluidic_protocols\\')\n",
    "fc = FileChooser(start_path)"
   ]
  },
  {
   "cell_type": "markdown",
   "metadata": {},
   "source": [
    "## Setup pycromanager file handling\n",
    "- how to handle directory here?\n",
    "  - create HDF5 in separate block and pass handle to it?\n",
    "  - maybe use partial function tool here?\n",
    "- can we integrate decon here?"
   ]
  },
  {
   "cell_type": "code",
   "execution_count": null,
   "metadata": {},
   "outputs": [],
   "source": [
    "def img_process_fn(image, metadata):\n",
    "\n",
    "    "
   ]
  },
  {
   "cell_type": "markdown",
   "metadata": {},
   "source": [
    "## Setup fluidics and imaging rounds"
   ]
  },
  {
   "cell_type": "code",
   "execution_count": 1,
   "metadata": {},
   "outputs": [],
   "source": [
    "# determine number of fluidics rounds\n",
    "\n",
    "# determine number of tile positions and step size between tiles\n",
    "\n",
    "# determine number of channels"
   ]
  },
  {
   "cell_type": "markdown",
   "metadata": {},
   "source": [
    "## Run experiment"
   ]
  },
  {
   "cell_type": "code",
   "execution_count": null,
   "metadata": {},
   "outputs": [],
   "source": []
  }
 ],
 "metadata": {
  "kernelspec": {
   "display_name": "Python 3",
   "language": "python",
   "name": "python3"
  },
  "language_info": {
   "codemirror_mode": {
    "name": "ipython",
    "version": 3
   },
   "file_extension": ".py",
   "mimetype": "text/x-python",
   "name": "python",
   "nbconvert_exporter": "python",
   "pygments_lexer": "ipython3",
   "version": "3.7.2"
  }
 },
 "nbformat": 4,
 "nbformat_minor": 4
}
