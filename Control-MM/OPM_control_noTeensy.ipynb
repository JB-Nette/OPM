{
 "cells": [
  {
   "cell_type": "markdown",
   "metadata": {},
   "source": [
    "# High numerical aperture, large field-of-view oblique plane microscopy\n",
    "\n",
    "[Preprint](https://www.biorxiv.org/content/10.1101/2020.04.07.030569v2)  \n",
    "[Github repo](https://github.com/qi2lab/OPM)  \n",
    "Based on original Micromanager 2.0 beanshell script that performed the same acquisition steps. Moving to Python is helpful because we do not have to separately call our fluidics units through an external Python program.\n",
    "  \n",
    "October 2020  \n",
    "Douglas Shepherd, PhD  \n",
    "qi2lab  \n",
    "Arizona State University  \n",
    "douglas.shepherd@asu.edu"
   ]
  },
  {
   "cell_type": "markdown",
   "metadata": {},
   "source": [
    "## Imports"
   ]
  },
  {
   "cell_type": "code",
   "execution_count": 6,
   "metadata": {},
   "outputs": [],
   "source": [
    "from pycromanager import Bridge, Acquisition\n",
    "import numpy as np\n",
    "from pathlib import Path\n",
    "import time"
   ]
  },
  {
   "cell_type": "markdown",
   "metadata": {},
   "source": [
    "## Define pycromanager specific hook functions for hardware controlled acquisition"
   ]
  },
  {
   "cell_type": "markdown",
   "metadata": {},
   "source": [
    "### function to start stage\n",
    "This is run once after the camera is put into active mode in the sequence acquisition. The stage starts moving on this command and outputs a TTL pulse to the camera when it passes the preset initial position. This TTL starts the camera running at the set exposure time using internal timing. The camera acts the master signal for the galvo/laser controller using its own \"exposure out\" signal."
   ]
  },
  {
   "cell_type": "code",
   "execution_count": 7,
   "metadata": {},
   "outputs": [],
   "source": [
    "def hook_fn(event):\n",
    "    \n",
    "    command='1SCAN'\n",
    "    core.set_property('TigerCommHub','SerialCommand',command)\n",
    "    \n",
    "    return event"
   ]
  },
  {
   "cell_type": "markdown",
   "metadata": {},
   "source": [
    "## Create bridge to micromanager"
   ]
  },
  {
   "cell_type": "code",
   "execution_count": 8,
   "metadata": {},
   "outputs": [],
   "source": [
    "bridge = Bridge()\n",
    "core = bridge.get_core()"
   ]
  },
  {
   "cell_type": "markdown",
   "metadata": {},
   "source": [
    "## Acquistion parameters"
   ]
  },
  {
   "cell_type": "markdown",
   "metadata": {},
   "source": [
    "### Select laser channels and powers"
   ]
  },
  {
   "cell_type": "code",
   "execution_count": 9,
   "metadata": {},
   "outputs": [],
   "source": [
    "# lasers to use\n",
    "# 0 -> inactive\n",
    "# 1 -> active\n",
    "\n",
    "state_405 = 0\n",
    "state_488 = 0\n",
    "state_561 = 1\n",
    "state_635 = 0\n",
    "state_730 = 0\n",
    "\n",
    "# laser powers (0 -> 100%)\n",
    "\n",
    "power_405 = 0\n",
    "power_488 = 0\n",
    "power_561 = 0\n",
    "power_635 = 0\n",
    "power_730 = 0\n",
    "\n",
    "# construct boolean array for lasers to use\n",
    "channel_states = [state_405,state_488,state_561,state_635,state_730]\n",
    "channel_powers = [power_405,power_488,power_561,power_635,power_730]"
   ]
  },
  {
   "cell_type": "markdown",
   "metadata": {},
   "source": [
    "### Camera parameters"
   ]
  },
  {
   "cell_type": "code",
   "execution_count": 10,
   "metadata": {},
   "outputs": [],
   "source": [
    "# FOV parameters\n",
    "ROI = [1024, 0, 256, 2048] #unit: pixels\n",
    "\n",
    "# camera exposure\n",
    "exposure_ms = 5 #unit: ms\n",
    "\n",
    "# camera pixel size\n",
    "pixel_size_um = .115 # unit: um"
   ]
  },
  {
   "cell_type": "markdown",
   "metadata": {},
   "source": [
    "### Stage scan parameters"
   ]
  },
  {
   "cell_type": "code",
   "execution_count": 11,
   "metadata": {},
   "outputs": [],
   "source": [
    "# scan axis limits. Use stage positions reported by MM\n",
    "scan_axis_start_asi = 280000 #unit: 1/10 um\n",
    "scan_axis_end_asi = 290000 #unit: 1/10 um\n",
    "\n",
    "# tile axis limits. Use stage positions reported by MM\n",
    "tile_axis_start_asi = 146000 #unit: 1/10 um\n",
    "tile_axis_end_asi = 145000 #unit: 1/10 um\n",
    "\n",
    "# height axis limits. Use stage positions reported by MM\n",
    "height_axis_start_asi = 690000 #unit: 1/10 um\n",
    "height_axis_end_asi = 695000 #unit: 1/10 um"
   ]
  },
  {
   "cell_type": "markdown",
   "metadata": {},
   "source": [
    "### Root directory"
   ]
  },
  {
   "cell_type": "code",
   "execution_count": 12,
   "metadata": {},
   "outputs": [],
   "source": [
    "save_directory = Path('F:/data/20201015a/')"
   ]
  },
  {
   "cell_type": "markdown",
   "metadata": {},
   "source": [
    "## Setup hardware for stage scanning sample through oblique digitally scanned light sheet"
   ]
  },
  {
   "cell_type": "markdown",
   "metadata": {},
   "source": [
    "### Calculate stage limits and speeds"
   ]
  },
  {
   "cell_type": "code",
   "execution_count": 13,
   "metadata": {},
   "outputs": [],
   "source": [
    "# scan axis setup\n",
    "scan_axis_step_um = 0.2  # unit: um\n",
    "scan_axis_step_mm = scan_axis_step_um / 1000.\n",
    "scan_axis_start_mm = scan_axis_start_asi / 10000.\n",
    "scan_axis_end_mm = scan_axis_end_asi / 10000.\n",
    "scan_axis_range_asi = np.abs(scan_axis_end_asi-scan_axis_start_asi)  # unit: 1/10 um\n",
    "scan_axis_range_mm = scan_axis_range_asi / 10000 #unit: mm\n",
    "exposure_s = exposure_ms / 1000. #unit: s\n",
    "scan_axis_speed = np.round(scan_axis_step_mm / exposure_s,2) #unit: mm/s\n",
    "number_of_images = np.rint(scan_axis_range_mm / scan_axis_step_mm).astype(int)\n",
    "\n",
    "# tile axis setup\n",
    "tile_axis_overlap=0.2\n",
    "tile_axis_range_asi = np.abs(tile_axis_end_asi - tile_axis_start_asi) #unit: 1/10 um\n",
    "tile_axis_range_mm = tile_axis_range_asi / 10000 #unit: mm\n",
    "tile_axis_ROI = ROI[3]-ROI[1] #unit: pixel\n",
    "tile_step_um = (tile_axis_ROI*pixel_size_um) * (1-tile_axis_overlap) #unit: um\n",
    "tile_step_mm = (tile_axis_ROI*pixel_size_um) * (1-tile_axis_overlap) * .001 #unit: mm\n",
    "tile_step_asi = (tile_axis_ROI*pixel_size_um) * (1-tile_axis_overlap) * 10.0 #unit: 1/10 um\n",
    "\n",
    "\n",
    "# height axis setup\n",
    "# this is more complicated, since we have an oblique light sheet\n",
    "# the height of the scan is the length of the ROI in the tilted direction * sin(tilt angle)\n",
    "# however, it may be better to hardcode displacement based on measurements of the light sheet Rayleigh length\n",
    "# for now, go with overlap calculation\n",
    "height_axis_overlap=0.2\n",
    "height_axis_range_asi = np.abs(height_axis_end_asi-height_axis_start_asi)\n",
    "height_axis_ROI = ROI[3]-ROI[1]*pixel_size_um #unit: um\n",
    "height_axis_step_um = (height_axis_ROI*pixel_size_um*np.sin(30.*(np.pi/180.)))*(1-height_axis_overlap) # unit: um\n",
    "height_axis_step_mm = (height_axis_ROI*pixel_size_um*np.sin(30.*(np.pi/180.)))*(1-height_axis_overlap) * .001 #unit: mm\n",
    "height_axis_step_asi = (height_axis_ROI*pixel_size_um*np.sin(30.*(np.pi/180.)))*(1-height_axis_overlap) * 10.0 #unit: 1/10 um\n",
    "\n",
    "tile_axis_positions_asi=[150000,152000]\n",
    "height_axis_positions_asi=[695000]"
   ]
  },
  {
   "cell_type": "markdown",
   "metadata": {},
   "source": [
    "### Setup ASI Tiger controller"
   ]
  },
  {
   "cell_type": "code",
   "execution_count": 24,
   "metadata": {},
   "outputs": [],
   "source": [
    "# Setup PLC card to give start trigger\n",
    "plcName = 'PLogic:E:36'\n",
    "propPosition = 'PointerPosition'\n",
    "propCellConfig = 'EditCellConfig'\n",
    "addrOutputBNC3 = 35\n",
    "addrStageSync = 46  # TTL5 on Tiger backplane = stage sync signal\n",
    " \n",
    "# connect stage sync signal to BNC output\n",
    "core.set_property(plcName, propPosition, addrOutputBNC3)\n",
    "core.set_property(plcName, propCellConfig, addrStageSync)\n",
    "\n",
    "# allow for repeated commands to Tiger\n",
    "core.set_property('TigerCommHub','OnlySendSerialCommandOnChange','No')\n",
    "\n",
    "# set tile axis speed for all moves\n",
    "command = 'SPEED Y=.5'\n",
    "core.set_property('TigerCommHub','SerialCommand',command)\n",
    "\n",
    "# check to make sure Tiger is not busy\n",
    "ready='B'\n",
    "while(not(ready=='N')):\n",
    "    command = 'STATUS';\n",
    "    core.set_property('TigerCommHub','SerialCommand',command)\n",
    "    ready = core.get_property('TigerCommHub','SerialResponse')\n",
    "    time.sleep(.500)\n",
    "\n",
    "# move tile axis to initial position\n",
    "# expects 1/10 um\n",
    "command = 'MOVE Y='+str(tile_axis_start_asi)\n",
    "core.set_property('TigerCommHub','SerialCommand',command)\n",
    "\n",
    "# check to make sure stage has finished move\n",
    "ready='B'\n",
    "while(not(ready=='N')):\n",
    "    command = 'STATUS';\n",
    "    core.set_property('TigerCommHub','SerialCommand',command)\n",
    "    ready = core.get_property('TigerCommHub','SerialResponse')\n",
    "    time.sleep(.500)\n",
    "\n",
    "# set scan axis speed for large move to initial position\n",
    "command = 'SPEED X=.5'\n",
    "core.set_property('TigerCommHub','SerialCommand',command)\n",
    "\n",
    "# check to make sure Tiger is not busy\n",
    "ready='B'\n",
    "while(not(ready=='N')):\n",
    "    command = 'STATUS';\n",
    "    core.set_property('TigerCommHub','SerialCommand',command)\n",
    "    ready = core.get_property('TigerCommHub','SerialResponse')\n",
    "    time.sleep(.500)\n",
    "\n",
    "# move scan scan stage to initial position\n",
    "# expects 1/10 um\n",
    "command = 'MOVE X='+str(scan_axis_start_asi)\n",
    "core.set_property('TigerCommHub','SerialCommand',command)\n",
    "\n",
    "# check to make sure stage has finished move\n",
    "ready='B'\n",
    "while(not(ready=='N')):\n",
    "    command = 'STATUS';\n",
    "    core.set_property('TigerCommHub','SerialCommand',command)\n",
    "    ready = core.get_property('TigerCommHub','SerialResponse')\n",
    "    time.sleep(.500)\n",
    "\n",
    "# set scan axis speed to correct speed for continuous stage scan\n",
    "# expects mm/s\n",
    "command = 'SPEED X='+str(scan_axis_speed)\n",
    "core.set_property('TigerCommHub','SerialCommand',command)\n",
    "\n",
    "# check to make sure Tiger is not busy\n",
    "ready='B'\n",
    "while(not(ready=='N')):\n",
    "    command = 'STATUS';\n",
    "    core.set_property('TigerCommHub','SerialCommand',command)\n",
    "    ready = core.get_property('TigerCommHub','SerialResponse')\n",
    "    time.sleep(.500)\n",
    "\n",
    "# set scan axis to true 1D scan with no backlash\n",
    "command = '1SCAN X? Y=0 Z=9 F=0'\n",
    "core.set_property('TigerCommHub','SerialCommand',command)\n",
    "\n",
    "# check to make sure Tiger is not busy\n",
    "ready='B'\n",
    "while(not(ready=='N')):\n",
    "    command = 'STATUS';\n",
    "    core.set_property('TigerCommHub','SerialCommand',command)\n",
    "    ready = core.get_property('TigerCommHub','SerialResponse')\n",
    "    time.sleep(.500)\n",
    "\n",
    "# set range for scan axis\n",
    "# expects mm\n",
    "command = '1SCANR X='+str(scan_axis_start_mm)+' Y='+str(scan_axis_end_mm)+' R=50'\n",
    "core.set_property('TigerCommHub','SerialCommand',command)\n",
    "\n",
    "# check to make sure Tiger is not busy\n",
    "ready='B'\n",
    "while(not(ready=='N')):\n",
    "    command = 'STATUS';\n",
    "    core.set_property('TigerCommHub','SerialCommand',command)\n",
    "    ready = core.get_property('TigerCommHub','SerialResponse')\n",
    "    time.sleep(.500)\n",
    "    \n",
    "# turn off repeated commands to Tiger\n",
    "core.set_property('TigerCommHub','OnlySendSerialCommandOnChange','Yes')"
   ]
  },
  {
   "cell_type": "markdown",
   "metadata": {},
   "source": [
    "### Setup BSI Express camera"
   ]
  },
  {
   "cell_type": "code",
   "execution_count": 15,
   "metadata": {},
   "outputs": [],
   "source": [
    "# crop FOV\n",
    "core.set_roi(*ROI)\n",
    "\n",
    "# set exposure\n",
    "core.set_exposure(exposure_ms)\n",
    "\n",
    "# set camera into low noise readout mode\n",
    "core.set_property('Camera','Gain','2-CMS')\n",
    "time.sleep(5)\n",
    "\n",
    "# set camera to trigger first mode\n",
    "core.set_property('Camera','TriggerMode','Internal Trigger')\n",
    "time.sleep(1)"
   ]
  },
  {
   "cell_type": "markdown",
   "metadata": {},
   "source": [
    "### Setup Coherent OBIS laser box"
   ]
  },
  {
   "cell_type": "code",
   "execution_count": 16,
   "metadata": {},
   "outputs": [],
   "source": [
    "# set all laser to off and user defined power\n",
    "\n",
    "core.set_config('Obis-State-405','Off')\n",
    "core.wait_for_config('Obis-State-405','Off')\n",
    "core.set_property('Coherent-Scientific Remote','Laser 405-100C - PowerSetpoint (%)',channel_powers[0])\n",
    "\n",
    "core.set_config('Obis-State-488','Off')\n",
    "core.wait_for_config('Obis-State-488','Off')\n",
    "core.set_property('Coherent-Scientific Remote','Laser 488-150C - PowerSetpoint (%)',channel_powers[1])\n",
    "\n",
    "core.set_config('Obis-State-561','Off')\n",
    "core.wait_for_config('Obis-State-561','Off')\n",
    "core.set_property('Coherent-Scientific Remote','Laser OBIS LS 561-150 - PowerSetpoint (%)',channel_powers[2])\n",
    "\n",
    "core.set_config('Obis-State-637','Off')\n",
    "core.wait_for_config('Obis-State-637','Off')\n",
    "core.set_property('Coherent-Scientific Remote','Laser 637-140C - PowerSetpoint (%)',channel_powers[3])\n",
    "\n",
    "core.set_config('Obis-State-730','Off')\n",
    "core.wait_for_config('Obis-State-730','Off')\n",
    "core.set_property('Coherent-Scientific Remote','Laser 730-30C - PowerSetpoint (%)',channel_powers[4])"
   ]
  },
  {
   "cell_type": "markdown",
   "metadata": {},
   "source": [
    "## Run acquisition\n",
    "We don't use the built-in multi-dimensional acquisition. This is because,\n",
    "1. We acquire events as the \"z\" position within pycromanager, but these events are actually positions of the scan axis (x).\n",
    "2. The acquisition during any given tile scan {1 fluidics round (r), 1 height axis position (zstage) , 1 tile axis position (y) , 1 channel (c), N scan axis images (x)} is completely hardware triggered. All pycromanager does is acquire each image and store it to a SSD array as fast as possible.\n",
    "3. We may change the height axis position (zstage) independent of the \"z\" acquisition parameter given by the scan axis (x) to image samples larger than the Rayleigh length of the oblique light sheet.\n",
    "4. We may change the exposure time between different channels, which changes the scan axis (x) and channel (c) parameters.\n",
    "5. We need to make sure the tile axis (y) has returned to initial position before starting again.\n",
    "7. Our Numba deskewing and BDV H5 creation code requires each strip scan {1 fluidics round (r), 1 height axis position (zstage) , 1 tile axis position (y) , 1 channel (c), N scan axis images (x)} to be in it's own file and/or directory.\n",
    "8. We may run an external fluidics controller (r) after a complete volume scan for iterative rounds of labeling."
   ]
  },
  {
   "cell_type": "code",
   "execution_count": 22,
   "metadata": {},
   "outputs": [
    {
     "ename": "KeyboardInterrupt",
     "evalue": "",
     "output_type": "error",
     "traceback": [
      "\u001b[1;31m---------------------------------------------------------------------------\u001b[0m",
      "\u001b[1;31mKeyboardInterrupt\u001b[0m                         Traceback (most recent call last)",
      "\u001b[1;32m<ipython-input-22-c1db3f08f9cb>\u001b[0m in \u001b[0;36m<module>\u001b[1;34m\u001b[0m\n\u001b[0;32m     38\u001b[0m                 \u001b[1;31m# TO DO: properly handle an error here if camera driver fails to return expected number of images.\u001b[0m\u001b[1;33m\u001b[0m\u001b[1;33m\u001b[0m\u001b[1;33m\u001b[0m\u001b[0m\n\u001b[0;32m     39\u001b[0m                 \u001b[1;32mwith\u001b[0m \u001b[0mAcquisition\u001b[0m\u001b[1;33m(\u001b[0m\u001b[0mdirectory\u001b[0m\u001b[1;33m=\u001b[0m\u001b[0mstr\u001b[0m\u001b[1;33m(\u001b[0m\u001b[0msave_directory\u001b[0m\u001b[1;33m)\u001b[0m\u001b[1;33m,\u001b[0m\u001b[0mname\u001b[0m\u001b[1;33m=\u001b[0m\u001b[0msave_name\u001b[0m\u001b[1;33m,\u001b[0m\u001b[0mpost_camera_hook_fn\u001b[0m\u001b[1;33m=\u001b[0m\u001b[0mhook_fn\u001b[0m\u001b[1;33m)\u001b[0m \u001b[1;32mas\u001b[0m \u001b[0macq\u001b[0m\u001b[1;33m:\u001b[0m\u001b[1;33m\u001b[0m\u001b[1;33m\u001b[0m\u001b[0m\n\u001b[1;32m---> 40\u001b[1;33m                     \u001b[0macq\u001b[0m\u001b[1;33m.\u001b[0m\u001b[0macquire\u001b[0m\u001b[1;33m(\u001b[0m\u001b[0mevents\u001b[0m\u001b[1;33m)\u001b[0m\u001b[1;33m\u001b[0m\u001b[1;33m\u001b[0m\u001b[0m\n\u001b[0m\u001b[0;32m     41\u001b[0m \u001b[1;33m\u001b[0m\u001b[0m\n\u001b[0;32m     42\u001b[0m                 \u001b[1;32mif\u001b[0m \u001b[1;33m(\u001b[0m\u001b[0mc\u001b[0m\u001b[1;33m==\u001b[0m\u001b[1;36m0\u001b[0m\u001b[1;33m)\u001b[0m\u001b[1;33m:\u001b[0m\u001b[1;33m\u001b[0m\u001b[1;33m\u001b[0m\u001b[0m\n",
      "\u001b[1;32m~\\Anaconda3\\envs\\pycromanager\\lib\\site-packages\\pycromanager\\acquire.py\u001b[0m in \u001b[0;36m__exit__\u001b[1;34m(self, exc_type, exc_val, exc_tb)\u001b[0m\n\u001b[0;32m    335\u001b[0m             \u001b[0mself\u001b[0m\u001b[1;33m.\u001b[0m\u001b[0m_event_queue\u001b[0m\u001b[1;33m.\u001b[0m\u001b[0mput\u001b[0m\u001b[1;33m(\u001b[0m\u001b[1;32mNone\u001b[0m\u001b[1;33m)\u001b[0m\u001b[1;33m\u001b[0m\u001b[1;33m\u001b[0m\u001b[0m\n\u001b[0;32m    336\u001b[0m         \u001b[1;31m#now wait on it to finish\u001b[0m\u001b[1;33m\u001b[0m\u001b[1;33m\u001b[0m\u001b[1;33m\u001b[0m\u001b[0m\n\u001b[1;32m--> 337\u001b[1;33m         \u001b[0mself\u001b[0m\u001b[1;33m.\u001b[0m\u001b[0mawait_completion\u001b[0m\u001b[1;33m(\u001b[0m\u001b[1;33m)\u001b[0m\u001b[1;33m\u001b[0m\u001b[1;33m\u001b[0m\u001b[0m\n\u001b[0m\u001b[0;32m    338\u001b[0m \u001b[1;33m\u001b[0m\u001b[0m\n\u001b[0;32m    339\u001b[0m     \u001b[1;32mdef\u001b[0m \u001b[0mget_dataset\u001b[0m\u001b[1;33m(\u001b[0m\u001b[0mself\u001b[0m\u001b[1;33m)\u001b[0m\u001b[1;33m:\u001b[0m\u001b[1;33m\u001b[0m\u001b[1;33m\u001b[0m\u001b[0m\n",
      "\u001b[1;32m~\\Anaconda3\\envs\\pycromanager\\lib\\site-packages\\pycromanager\\acquire.py\u001b[0m in \u001b[0;36mawait_completion\u001b[1;34m(self)\u001b[0m\n\u001b[0;32m    346\u001b[0m         \u001b[1;34m\"\"\"Wait for acquisition to finish and resources to be cleaned up\"\"\"\u001b[0m\u001b[1;33m\u001b[0m\u001b[1;33m\u001b[0m\u001b[0m\n\u001b[0;32m    347\u001b[0m         \u001b[1;32mwhile\u001b[0m \u001b[1;33m(\u001b[0m\u001b[1;32mnot\u001b[0m \u001b[0mself\u001b[0m\u001b[1;33m.\u001b[0m\u001b[0m_remote_acq\u001b[0m\u001b[1;33m.\u001b[0m\u001b[0mis_finished\u001b[0m\u001b[1;33m(\u001b[0m\u001b[1;33m)\u001b[0m\u001b[1;33m)\u001b[0m\u001b[1;33m:\u001b[0m\u001b[1;33m\u001b[0m\u001b[1;33m\u001b[0m\u001b[0m\n\u001b[1;32m--> 348\u001b[1;33m             \u001b[0mtime\u001b[0m\u001b[1;33m.\u001b[0m\u001b[0msleep\u001b[0m\u001b[1;33m(\u001b[0m\u001b[1;36m0.1\u001b[0m\u001b[1;33m)\u001b[0m\u001b[1;33m\u001b[0m\u001b[1;33m\u001b[0m\u001b[0m\n\u001b[0m\u001b[0;32m    349\u001b[0m \u001b[1;33m\u001b[0m\u001b[0m\n\u001b[0;32m    350\u001b[0m     \u001b[1;32mdef\u001b[0m \u001b[0macquire\u001b[0m\u001b[1;33m(\u001b[0m\u001b[0mself\u001b[0m\u001b[1;33m,\u001b[0m \u001b[0mevents\u001b[0m\u001b[1;33m,\u001b[0m \u001b[0mkeep_shutter_open\u001b[0m\u001b[1;33m=\u001b[0m\u001b[1;32mFalse\u001b[0m\u001b[1;33m)\u001b[0m\u001b[1;33m:\u001b[0m\u001b[1;33m\u001b[0m\u001b[1;33m\u001b[0m\u001b[0m\n",
      "\u001b[1;31mKeyboardInterrupt\u001b[0m: "
     ]
    }
   ],
   "source": [
    "# create events to hold all of the scan axis images during constant speed stage scan\n",
    "# we call this 'z' here, even though it is actually oblique images acquired by moving scan axis (x) in our system\n",
    "events = []\n",
    "for z in range(number_of_images):\n",
    "    events.append({'axes': {'z': z}})\n",
    "\n",
    "# loop through all tile axis positions\n",
    "for y in range(len(tile_axis_positions_asi)):   \n",
    "\n",
    "    # loop through all height axis positions at current tile axis position\n",
    "    for zstage in range(len(height_axis_positions_asi)):\n",
    "\n",
    "        # loop through all channels at current height axis and tile axis positions\n",
    "        for c in range(len(channel_states)):\n",
    "            if channel_states[c] == 1:\n",
    "\n",
    "                #set laser\n",
    "                if (c==0):\n",
    "                    core.set_config(\"Obis-State-405\",\"On\")\n",
    "                    core.wait_for_config(\"Obis-State-405\",\"On\")\n",
    "                elif (c==1):\n",
    "                    core.set_config(\"Obis-State-488\",\"On\")\n",
    "                    core.wait_for_config(\"Obis-State-488\",\"On\")\n",
    "                elif (c==2):\n",
    "                    core.set_config(\"Obis-State-561\",\"On\")\n",
    "                    core.wait_for_config(\"Obis-State-561\",\"On\")\n",
    "                elif (c==3):\n",
    "                    core.set_config(\"Obis-State-637\",\"On\")\n",
    "                    core.wait_for_config(\"Obis-State-637\",\"On\")\n",
    "                elif (c==4):\n",
    "                    core.set_config(\"Obis-State-730\",\"On\")\n",
    "                    core.wait_for_config(\"Obis-State-730\",\"On\")\n",
    "\n",
    "                # setup file name\n",
    "                save_name = 'scan_'+'y_'+str(y).zfill(6)+'z_'+str(zstage).zfill(8)+'c_'+str(c).zfill(2)\n",
    "\n",
    "                # run acquisition\n",
    "                # TO DO: properly handle an error here if camera driver fails to return expected number of images.\n",
    "                with Acquisition(directory=str(save_directory),name=save_name,post_camera_hook_fn=hook_fn) as acq:\n",
    "                    acq.acquire(events)\n",
    "                \n",
    "                if (c==0):\n",
    "                    core.set_config(\"Obis-State-405\",\"Off\")\n",
    "                    core.wait_for_config(\"Obis-State-405\",\"Off\")\n",
    "                elif (c==1):\n",
    "                    core.set_config(\"Obis-State-488\",\"Off\")\n",
    "                    core.wait_for_config(\"Obis-State-488\",\"Off\")\n",
    "                elif (c==2):\n",
    "                    core.set_config(\"Obis-State-561\",\"Off\")\n",
    "                    core.wait_for_config(\"Obis-State-561\",\"Off\")\n",
    "                elif (c==3):\n",
    "                    core.set_config(\"Obis-State-637\",\"Off\")\n",
    "                    core.wait_for_config(\"Obis-State-637\",\"Off\")\n",
    "                elif (c==4):\n",
    "                    core.set_config(\"Obis-State-730\",\"Off\")\n",
    "                    core.wait_for_config(\"Obis-State-730\",\"Off\")\n",
    "                    \n",
    "                # allow for repeated commands to Tiger\n",
    "                core.set_property('TigerCommHub','OnlySendSerialCommandOnChange','No')\n",
    "\n",
    "                # ensure scan axis has returned to initial position\n",
    "                ready='B'\n",
    "                while(not(ready=='N')):\n",
    "                    command = 'STATUS';\n",
    "                    core.set_property('TigerCommHub','SerialCommand',command)\n",
    "                    ready = core.get_property('TigerCommHub','SerialResponse')\n",
    "                    time.sleep(1)\n",
    "                    \n",
    "                # turn off repeated commands to Tiger\n",
    "                core.set_property('TigerCommHub','OnlySendSerialCommandOnChange','Yes')\n",
    "\n",
    "        # allow for repeated commands to Tiger\n",
    "        core.set_property('TigerCommHub','OnlySendSerialCommandOnChange','No')\n",
    "        \n",
    "        # move height axis to new position\n",
    "        command = 'MOV M='+str(height_axis_positions_asi[zstage])\n",
    "        core.set_property('TigerCommHub','SerialCommand',command)\n",
    "        answer = core.get_property('TigerCommHub','SerialResponse')\n",
    "        \n",
    "        # make sure stage has finished move\n",
    "        ready='B'\n",
    "        while(not(ready=='N')):\n",
    "            command = 'STATUS';\n",
    "            core.set_property('TigerCommHub','SerialCommand',command)\n",
    "            ready = core.get_property('TigerCommHub','SerialResponse')\n",
    "            time.sleep(.500)\n",
    "            \n",
    "        # turn off repeated commands to Tiger\n",
    "        core.set_property('TigerCommHub','OnlySendSerialCommandOnChange','Yes')\n",
    "        \n",
    "    # allow for repeated commands to Tiger\n",
    "    core.set_property('TigerCommHub','OnlySendSerialCommandOnChange','No')\n",
    "    \n",
    "    # move tile axis to new position\n",
    "    command = 'MOV Y='+str(tile_axis_positions_asi[y])\n",
    "    print(command)\n",
    "    core.set_property('TigerCommHub','SerialCommand',command)\n",
    "    \n",
    "    # make sure stage has finished move\n",
    "    ready='B'\n",
    "    while(not(ready=='N')):\n",
    "        command = 'STATUS';\n",
    "        core.set_property('TigerCommHub','SerialCommand',command)\n",
    "        ready = core.get_property('TigerCommHub','SerialResponse')\n",
    "        time.sleep(.500)\n",
    "        \n",
    "    # turn off repeated commands to Tiger\n",
    "    core.set_property('TigerCommHub','OnlySendSerialCommandOnChange','Yes')\n",
    "            \n",
    "    #-----------------------------------------------------------------------------------------------------------\n",
    "    # cycle camera mode after one tile to avoid issues with Photometrics driver not returning expected\n",
    "    # number of images. This always occurs after a acquiring large number of images in a single run (n~5 million)\n",
    "    # STATUS OF BUG: 2020.10.04 - Photometrics acknowledges this is a problem that we encounter and they verify.\n",
    "    #                             No solution offered.\n",
    "\n",
    "    # set camera to internal trigger mode\n",
    "    core.set_property('CameraTrigger','Internal Trigger')\n",
    "    time.sleep(10)\n",
    "\n",
    "    # set camera to trigger first mode\n",
    "    core.set_property('CameraTrigger','Trigger first')\n",
    "    time.sleep(10)\n",
    "    #-----------------------------------------------------------------------------------------------------------\n",
    "\n",
    "\n",
    "# set camera to internal trigger mode\n",
    "core.set_property('CameraTrigger','Internal Trigger')"
   ]
  }
 ],
 "metadata": {
  "kernelspec": {
   "display_name": "Python 3",
   "language": "python",
   "name": "python3"
  },
  "language_info": {
   "codemirror_mode": {
    "name": "ipython",
    "version": 3
   },
   "file_extension": ".py",
   "mimetype": "text/x-python",
   "name": "python",
   "nbconvert_exporter": "python",
   "pygments_lexer": "ipython3",
   "version": "3.8.5"
  }
 },
 "nbformat": 4,
 "nbformat_minor": 4
}
