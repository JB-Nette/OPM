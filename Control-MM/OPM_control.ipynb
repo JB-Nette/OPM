{
 "cells": [
  {
   "cell_type": "markdown",
   "metadata": {},
   "source": [
    "# High numerical aperture, large field-of-view oblique plane microscopy\n",
    "\n",
    "[Preprint](https://www.biorxiv.org/content/10.1101/2020.04.07.030569v2)  \n",
    "[Github repo](https://github.com/qi2lab/OPM)  \n",
    "Based on original Micromanager 2.0 beanshell script that performed the same acquisition steps. Moving to Python is helpful because we do not have to separately call our fluidics units through an external Python program.\n",
    "  \n",
    "October 2020  \n",
    "Douglas Shepherd, PhD  \n",
    "qi2lab  \n",
    "Arizona State University  \n",
    "douglas.shepherd@asu.edu"
   ]
  },
  {
   "cell_type": "markdown",
   "metadata": {},
   "source": [
    "## Imports"
   ]
  },
  {
   "cell_type": "code",
   "execution_count": 22,
   "metadata": {},
   "outputs": [],
   "source": [
    "from pycromanager import Bridge, Acquisition\n",
    "from time import sleep\n",
    "import numpy as np\n",
    "from Pathlib import Path"
   ]
  },
  {
   "cell_type": "markdown",
   "metadata": {},
   "source": [
    "## Define pycromanager specific hook functions for hardware controlled acquisition"
   ]
  },
  {
   "cell_type": "markdown",
   "metadata": {},
   "source": [
    "### function to start stage\n",
    "This is run once after the camera is put into active mode in the sequence acquisition. The stage starts moving on this command and outputs a TTL pulse to the camera when it passes the preset initial position. This TTL starts the camera running at the set exposure time using internal timing. The camera acts the master signal for the galvo/laser controller using its own \"exposure out\" signal."
   ]
  },
  {
   "cell_type": "code",
   "execution_count": 11,
   "metadata": {},
   "outputs": [],
   "source": [
    "def start_stage(event):\n",
    "    stage_port = 'COM4'\n",
    "    stage_message='1SCAN'\n",
    "    send_command_Tiger(stage_port, stage_message, False)\n",
    "    \n",
    "    return event"
   ]
  },
  {
   "cell_type": "markdown",
   "metadata": {},
   "source": [
    "## Define other hardware interaction functions"
   ]
  },
  {
   "cell_type": "markdown",
   "metadata": {},
   "source": [
    "### function for error redundant communication with Tiger controller\n",
    "Theoretically, this should not be necessary. But often, we get errors when communicating with our Tiger controller via the serial port. We also often see the polling function stop reporting the current stage positions in MM 2.0 GUI. This might be a computer specific issue. However, it is just easier to make sure the ASI Tiger received, acknowledges, and executes command as requested.  \n",
    "  \n",
    "This function also has the capability to continually poll the stage controller to check if a command is finished. We find this is necessary when moving the stage large distances."
   ]
  },
  {
   "cell_type": "code",
   "execution_count": null,
   "metadata": {},
   "outputs": [],
   "source": [
    "def send_command_Tiger(stage_port,command,check_busy):\n",
    "\n",
    "    answer = \"\"\n",
    "    send_success = False\n",
    "    \n",
    "    # send command\n",
    "    while(~send_success):\n",
    "        \n",
    "        exception = False\n",
    "        try:\n",
    "            core.set_serial_port_command(stage_port, command, \"\\r\")\n",
    "        except ValueError:\n",
    "            sleep(0.1)\n",
    "            send_success = False\n",
    "            exception = True\n",
    "        if (~exception):\n",
    "            send_success=True\n",
    "        \n",
    "        # receive response\n",
    "        send_success = False\n",
    "        exception = False\n",
    "        try:\n",
    "            answer = core.get_serial_port_answer(stage_port, \"\\r\\n\")\n",
    "        except ValueError:\n",
    "            sleep(0.1)\n",
    "            send_success = False\n",
    "            exception = True\n",
    "        if (~exception): \n",
    "            send_success = True\n",
    "\n",
    "    \n",
    "    # if checkbusy is True, poll Tiger until stage is available\n",
    "    if (check_busy):\n",
    "        \n",
    "        answer = 'X'\n",
    "        \n",
    "        while (~answer == 'N'):\n",
    "            answer=\"\"\n",
    "            send_success = True\n",
    "        \n",
    "            # make sure command and response were received\n",
    "            while (~send_success):\n",
    "                # send command\n",
    "                    exception = False\n",
    "                try:\n",
    "                    mmc.set_serial_port_command(stage_port, \"STATUS\", \"\\r\")\n",
    "                except ValueError: \n",
    "                    sleep(0.1)\n",
    "                    send_success = False\n",
    "                    exception = True\n",
    "                if (~exception):\n",
    "                    send_success = True\n",
    "\n",
    "            # receive response\n",
    "            send_success = False;\n",
    "            exception = False;\n",
    "\n",
    "            try:\n",
    "                answer = mmc.get_serial_port_answer(stage_port, \"\\r\\n\")\n",
    "            except ValueError:\n",
    "                sleep(0.1)\n",
    "                send_success = False\n",
    "                exception = True\n",
    "            if (~exception):\n",
    "                send_success = True\n",
    "            \n",
    "\n",
    "    return answer"
   ]
  },
  {
   "cell_type": "markdown",
   "metadata": {},
   "source": [
    "### function to set up galvo/laser controller"
   ]
  },
  {
   "cell_type": "code",
   "execution_count": 17,
   "metadata": {},
   "outputs": [
    {
     "ename": "IndentationError",
     "evalue": "unexpected indent (<ipython-input-17-38cba513337b>, line 5)",
     "output_type": "error",
     "traceback": [
      "\u001b[1;36m  File \u001b[1;32m\"<ipython-input-17-38cba513337b>\"\u001b[1;36m, line \u001b[1;32m5\u001b[0m\n\u001b[1;33m    +str(number_of_images)+\"_END\"\u001b[0m\n\u001b[1;37m    ^\u001b[0m\n\u001b[1;31mIndentationError\u001b[0m\u001b[1;31m:\u001b[0m unexpected indent\n"
     ]
    }
   ],
   "source": [
    "def setup_galvo(galvo_port,min_12bit_value,max_12bit_value,factor,channel,number_of_images):\n",
    "    \n",
    "    # construct command string\n",
    "    galvo_command = 's_c'+str(channel)+'_l'+str(min_12bit_value)+'_h'+str(max_12bit_value)+'_f'+str(factor)+'_n'+str(number_of_images)+'_e'\n",
    "    \n",
    "    # send command string\n",
    "    core.set_serial_port_command(galvo_port, message, '\\r')\n",
    "    \n",
    "    # receive response\n",
    "    \n",
    "    return True"
   ]
  },
  {
   "cell_type": "markdown",
   "metadata": {},
   "source": [
    "## Create bridge to micromanager"
   ]
  },
  {
   "cell_type": "code",
   "execution_count": 2,
   "metadata": {},
   "outputs": [],
   "source": [
    "bridge = Bridge()\n",
    "core = bridge.get_core()"
   ]
  },
  {
   "cell_type": "markdown",
   "metadata": {},
   "source": [
    "## Acquistion parameters"
   ]
  },
  {
   "cell_type": "markdown",
   "metadata": {},
   "source": [
    "### Select laser channels and powers"
   ]
  },
  {
   "cell_type": "code",
   "execution_count": null,
   "metadata": {},
   "outputs": [],
   "source": [
    "# lasers to use\n",
    "# 0 -> inactive\n",
    "# 1 -> active\n",
    "\n",
    "state_405 = 0\n",
    "state_488 = 0\n",
    "state_561 = 1\n",
    "state_635 = 0\n",
    "state_730 = 0\n",
    "\n",
    "# laser powers (0 -> 100%)\n",
    "\n",
    "power_405 = 0\n",
    "power_488 = 0\n",
    "power_561 = 10\n",
    "power_635 = 0\n",
    "power_730 = 0\n",
    "\n",
    "# construct boolean array for lasers to use\n",
    "channel_states = [state_405,state_488,state_561,state_635,state_730]\n",
    "channel_powers = [power_405,power_488,power_561,power_635,power_730]"
   ]
  },
  {
   "cell_type": "markdown",
   "metadata": {},
   "source": [
    "### Camera parameters"
   ]
  },
  {
   "cell_type": "code",
   "execution_count": 10,
   "metadata": {},
   "outputs": [],
   "source": [
    "# FOV parameters\n",
    "ROI = [1152, 2048, 896, 0] #unit: pixels\n",
    "\n",
    "# camera exposure\n",
    "exposure_ms = 5 #unit: ms\n",
    "\n",
    "# camera pixel size\n",
    "pixel_size = .115 # unit: um"
   ]
  },
  {
   "cell_type": "markdown",
   "metadata": {},
   "source": [
    "### Stage scan parameters"
   ]
  },
  {
   "cell_type": "code",
   "execution_count": null,
   "metadata": {},
   "outputs": [],
   "source": [
    "# scan axis limits. Use stage positions reported by MM\n",
    "scan_axis_start_asi = #unit: 1/10 um\n",
    "scan_axis_end_asi = #unit: 1/10 um\n",
    "\n",
    "# tile axis limits. Use stage positions reported by MM\n",
    "tile_axis_start_asi = #unit: 1/10 um\n",
    "tile_axis_end_asi = #unit: 1/10 um\n",
    "\n",
    "# height axis limits. Use stage positions reported by MM\n",
    "height_axis_start_asi = #unit: 1/10 um\n",
    "height_axis_end_asi = #unit: 1/10 um"
   ]
  },
  {
   "cell_type": "markdown",
   "metadata": {},
   "source": [
    "### Root directory"
   ]
  },
  {
   "cell_type": "code",
   "execution_count": 9,
   "metadata": {},
   "outputs": [],
   "source": [
    "save_directory = Path('E:\\data\\20201005\\')"
   ]
  },
  {
   "cell_type": "markdown",
   "metadata": {},
   "source": [
    "## Setup hardware for stage scanning sample through oblique digitally scanned light sheet"
   ]
  },
  {
   "cell_type": "markdown",
   "metadata": {},
   "source": [
    "### Calculate stage limits and speeds"
   ]
  },
  {
   "cell_type": "code",
   "execution_count": 4,
   "metadata": {},
   "outputs": [],
   "source": [
    "# scan axis setup\n",
    "scan_axis_step_um = 0.2  # unit: um\n",
    "scan_axis_step_mm = step_size_um / 1000.\n",
    "scan_axis_range_asi = np.abs(scan_axis_end_asi-scan_axis_start_asi)  # unit: 1/10 um\n",
    "scan_axis_range_mm = scan_axis_range_asi / 10000 #unit: mm\n",
    "exposure_s = exposure_ms / 1000. #unit: s\n",
    "scan_axis_speed = np.round(scan_step_mm / exposure_s,2) #unit: mm/s\n",
    "number_of_images = np.rint(scan_axis_range_mm / scan_axis_step_mm).astype(int)\n",
    "\n",
    "# tile axis setup\n",
    "tile_axis_overlap=0.2\n",
    "tile_axis_range_asi = np.abs(tile_axis_end_asi - tile_axis_start_asi) #unit: 1/10 um\n",
    "tile_axis_range_mm = tile_axis_range_asi / 10000 #unit: mm\n",
    "tile_axis_ROI = ROI[3]-ROI[1] #unit: pixel\n",
    "tile_step_um = (tile_axis_ROI*pixel_size_um) * (1-tile_axis_overlap) #unit: um\n",
    "tile_step_mm = (tile_axis_ROI*pixel_size_um) * (1-tile_axis_overlap) * .001 #unit: mm\n",
    "tile_step_asi = (tile_axis_ROI.*pixel_size_um) * (1-tile_axis_overlap) * 10.0 #unit: 1/10 um\n",
    "\n",
    "\n",
    "# height axis setup\n",
    "# this is more complicated, since we have an oblique light sheet\n",
    "# the height of the scan is the length of the ROI in the tilted direction * sin(tilt angle)\n",
    "# however, it may be better to hardcode displacement based on measurements of the light sheet Rayleigh length\n",
    "# for now, go with overlap calculation\n",
    "height_axis_overlap=0.2\n",
    "height_axis_range_asi = np.abs(height_axis_end_asi-height_axis_start_asi)\n",
    "height_axis_ROI = ROI[4]-ROI[1]*pixel_size #unit: um\n",
    "height_axis_step_um = (height_axis_ROI*pixel_size_um*np.sin(30.*(np.pi/180.)))*(1-height_axis_overlap) # unit: um\n",
    "height_axis_step_mm = (height_axis_ROI*pixel_size_um*np.sin(30.*(np.pi/180.)))*(1-height_axis_overlap) * .001 #unit: mm\n",
    "height_axis_step_asi = (height_axis_ROI*pixel_size_um*np.sin(30.*(np.pi/180.)))*(1-height_axis_overlap) * 10.0 #unit: 1/10 um\n",
    "\n"
   ]
  },
  {
   "cell_type": "markdown",
   "metadata": {},
   "source": [
    "### Setup ASI Tiger controller"
   ]
  },
  {
   "cell_type": "code",
   "execution_count": null,
   "metadata": {},
   "outputs": [],
   "source": [
    "stage_port = 'COM4'\n",
    "\n",
    "# Setup PLC card to give start trigger\n",
    "plcName = 'PLogic:E:36'\n",
    "propPosition = 'PointerPosition'\n",
    "propCellConfig = 'EditCellConfig'\n",
    "addrOutputBNC3 = 35\n",
    "addrStageSync = 46  # TTL5 on Tiger backplane = stage sync signal\n",
    " \n",
    "# connect stage sync signal to BNC output\n",
    "core.set_property(plcName, propPosition, addrOutputBNC3)\n",
    "core.set_property(plcName, propCellConfig, addrStageSync)\n",
    "\n",
    "# set tile axis speed for all moves\n",
    "command = 'SPEED Y=.5'\n",
    "answer = send_command_Tiger(stage_port,command,False)\n",
    "\n",
    "# move tile axis to initial position\n",
    "# expects 1/10 um\n",
    "command = 'MOVE Y='+start_tile_axis_asi\n",
    "answer = send_command_Tiger(stage_port,command,True);\n",
    "\n",
    "# set scan axis speed for large move to initial position\n",
    "command = 'SPEED X=.5'\n",
    "answer = send_command_Tiger(stage_port,command,False)\n",
    "\n",
    "# move scan scan stage to initial position\n",
    "# expects 1/10 um\n",
    "command = 'MOVE X='+start_scan_axis_asi\n",
    "answer = send_command_Tiger(stage_port,command,True);\n",
    "\n",
    "# set scan axis speed to correct speed for continuous stage scan\n",
    "# expects mm/s\n",
    "command = 'SPEED X='+scan_rate\n",
    "answer = send_command_Tiger(stage_port,command,False)\n",
    "\n",
    "# set scan axis to true 1D scan with no backlash\n",
    "command = '1SCAN X? Y=0 Z=9 F=0'\n",
    "answer = send_command_Tiger(stage_port,command,False)\n",
    "\n",
    "# set range for scan axis\n",
    "# expects mm\n",
    "command = '1SCANR X='+start_scan_axis_mm+' Y='+end_scan_axis_mm+' R=50'\n",
    "answer = send_command_Tiger(stage_port,command,False)"
   ]
  },
  {
   "cell_type": "markdown",
   "metadata": {},
   "source": [
    "### Setup BSI Express camera"
   ]
  },
  {
   "cell_type": "code",
   "execution_count": 5,
   "metadata": {},
   "outputs": [],
   "source": [
    "# set exposure\n",
    "core.set_exposure(exposure_ms)\n",
    "\n",
    "# set camera up for stage scan\n",
    "core.set_config('Camera_Setup','CMS_stage_scan')\n",
    "\n",
    "# set camera into low noise readout mode\n",
    "core.set_config('CameraReadout','2-CMS')\n",
    "core.wait_for_config('CameraReadout','2-CMS')\n",
    "\n",
    "# set camera fan to high and temp to cold\n",
    "core.set_config('CameraTemp','Cold')\n",
    "core.wait_for_config('CameraTemp','Cold')\n",
    "\n",
    "# set camera to trigger first mode\n",
    "core.set_config('CameraTrigger','Trigger first')\n",
    "core.wait_for_config('CameraTrigger','Trigger first')\n",
    "\n",
    "# set camera to send exposure out on TRIG1\n",
    "core.set_config('OutputTrigger','Global Exposure')\n",
    "core.wait_for_config('OutputTrigger','Global Exposure')\n",
    "\n",
    "# crop FOV\n",
    "mmc.set_roi(*ROI)"
   ]
  },
  {
   "cell_type": "markdown",
   "metadata": {},
   "source": [
    "### Setup Coherent OBIS laser box"
   ]
  },
  {
   "cell_type": "code",
   "execution_count": null,
   "metadata": {},
   "outputs": [],
   "source": [
    "# set all lasers to digital external triggering. \n",
    "# Galvo controller takes lower bandwdith digital triggering of 561 (~18 microsecond response) into account\n",
    "\n",
    "core.set_config('Obis-State-405','Off')\n",
    "core.wait_for_config('Obis-State-405','Off')\n",
    "core.set_config('Obis-State-405','External_digital')\n",
    "core.wait_for_config('Obis-State-405','External_digital')\n",
    "core.set_property('Coherent-Scientific Remote','Laser 405-100C - PowerSetpoint (%)',channel_powers[0])\n",
    "\n",
    "core.set_config('Obis-State-488','Off')\n",
    "core.wait_for_config('Obis-State-488','Off')\n",
    "core.set_config('Obis-State-488','External_digital')\n",
    "core.wait_for_config('Obis-State-488','External_digital')\n",
    "core.set_property('Coherent-Scientific Remote','Laser 488-150C - PowerSetpoint (%)',channel_powers[1])\n",
    "\n",
    "core.set_config('Obis-State-561','Off')\n",
    "core.wait_for_config('Obis-State-561','Off')\n",
    "core.set_config('Obis-State-561','External_digital')\n",
    "core.wait_for_config('Obis-State-561','External_digital')\n",
    "core.set_property('Coherent-Scientific Remote','Laser OBIS LS 561-150 - PowerSetpoint (%)',channel_powers[2])\n",
    "\n",
    "core.set_config('Obis-State-637','Off')\n",
    "core.wait_for_config('Obis-State-637','Off')\n",
    "core.set_config('Obis-State-637','External_digital')\n",
    "core.wait_for_config('Obis-State-637','External_digital')\n",
    "core.set_property('Coherent-Scientific Remote','Laser 637-140C - PowerSetpoint (%)',channel_powers[3])\n",
    "\n",
    "core.set_config('Obis-State-730','Off')\n",
    "core.wait_for_config('Obis-State-730','Off')\n",
    "core.set_config('Obis-State-730','External_digital')\n",
    "core.wait_for_config('Obis-State-730','External_digital')\n",
    "core.set_property('Coherent-Scientific Remote','Laser 730-30C - PowerSetpoint (%)',channel_powers[4])"
   ]
  },
  {
   "cell_type": "markdown",
   "metadata": {},
   "source": [
    "### Setup homebuilt galvo/laser controller\n",
    "Our galvo/laser controller is a [Teensy 3.5](https://www.pjrc.com/teensy/) with a [12-bit bi-phasic DAC](https://www.tindie.com/products/visgence/power-dac-module/). The PCB design and controller software are found in this repo. The controller performs the following,\n",
    "1. Waits for camera exposure out signal. This signal is sent when all rows are exposing\n",
    "2. Activates laser while galvo sits just outside FOV\n",
    "3. Sweeps galvo across the FOV, covering the entire FOV once during exposure time. The 12-bit DAC board we use requires 4.5 us to achieve a full change, so we calculate the number of possible lines using this. In reality, the unit performs better  than this for small changes, but we get sufficient resolution with this method even for 1 ms exposures.\n",
    "4. Blanks laser at end of sweep, which is also just outside FOV.\n",
    "5. Returns galvo to initial position once laser is blanked.\n",
    "\n",
    "We cannot sweep the mirror back and forth, because there is a slight skew to the data due to the combination of the galvo sweep + constant stage scan. At slow stage speeds with ca. <2 pixel displacement between images, this is not visible. But, as the stage speed increases, we have to correct for this skew in the post processing.\n",
    "\n",
    "This approach eliminates motion blur and limits shadowing. Inspiration for this approach was taken from various papers, especially [IsoView](https://doi.org/10.1038/nmeth.3632) by the Keller lab and our previous work on [interia-free light sheet](https://doi.org/10.1038/s41467-017-00514-7). The galvo/laser controller used here is a modified version of the custom DAC solution used in our previous works. Because the Coherent OBIS laser box has 50 Ohm inputs, additional circuitry is needed to drive the digital lines using the 3.3V Teensy."
   ]
  },
  {
   "cell_type": "code",
   "execution_count": 146,
   "metadata": {},
   "outputs": [],
   "source": [
    "# port for Teensy\n",
    "Teensy_port = 'COM5'\n",
    "\n",
    "# settings for galvo sweep (determined independently)\n",
    "galvo_min_V = -2.0 #unit: V\n",
    "galvo_max_V = +2.0 #unit: V\n",
    "\n",
    "# bi-phasic DAC external power values\n",
    "supply_min_V = -3.3 #unit: V\n",
    "supply_max_V = +3.3 #unit: V\n",
    "\n",
    "# calculate min and max DAC value in 12-bit space\n",
    "min_12bit_value = np.rint((galvo_min_V)*(2**12-0)/(supply_max_V-supply_min_V) + 2048).astype(int)\n",
    "max_12bit_value = np.rint((galvo_max_V)*(2**12-0)/(supply_max_V-supply_min_V) + 2048).astype(int)\n",
    "\n",
    "# determine number of lines to skip to make sure DAC does not have instability\n",
    "DAC_settling_time=0.0045 #unit: ms\n",
    "native_sweep_time = (max_12bit_value-min_12bit_value)*DAC_settling_time #unit: ms\n",
    "factor = np.rint(native_sweep_time / exposure_ms).astype(int)\n",
    "if factor == 0:\n",
    "    factor = 1\n",
    "\n",
    "# explicit calculation of DAC values used to perform sweep is independently performed on the galvo/laser controller.\n",
    "# Replicated here for diagnosis.\n",
    "dac_array = np.rint(np.arange(min_12bit_value,max_12bit_value,factor)).astype(int)"
   ]
  },
  {
   "cell_type": "markdown",
   "metadata": {},
   "source": [
    "## Run acquisition\n",
    "We don't use the built-in multi-dimensional acquisition. This is because,\n",
    "1. We acquire events as the \"z\" position within pycromanager, but these events are actually positions of the scan axis (x).\n",
    "2. The acquisition during any given tile scan {1 fluidics round (r), 1 height axis position (zstage) , 1 tile axis position (y) , 1 channel (c), N scan axis images (x)} is completely hardware triggered. All pycromanager does is acquire each image and store it to a SSD array as fast as possible.\n",
    "3. We may change the height axis position (zstage) independent of the \"z\" acquisition parameter given by the scan axis (x) to image samples larger than the Rayleigh length of the oblique light sheet.\n",
    "4. We may change the exposure time between different channels, which changes the scan axis (x) and galvo/laser controller (c) parameters.\n",
    "5. We need to make sure the tile axis (y) has returned to initial position before starting again.\n",
    "6. Our ASI Tiger controller (x,y,zstage) often exhibits serial communication problems. So we make sure that the command is received and executed before continuing.\n",
    "7. We use a custom galvo/laser controller (c) that does not fit into the definition of Micromanager 2.0 sequenceable hardware. Our approach eliminates motion blur during a stage scan and reduces shadowing.\n",
    "8. Our Numba deskewing and BDV H5 creation code requires each strip scan {1 fluidics round (r), 1 height axis position (zstage) , 1 tile axis position (y) , 1 channel (c), N scan axis images (x)} to be in it's own file and/or directory.\n",
    "9. We may run an external fluidics controller (r) after a complete volume scan for iterative rounds of labeling."
   ]
  },
  {
   "cell_type": "code",
   "execution_count": 12,
   "metadata": {},
   "outputs": [
    {
     "ename": "NameError",
     "evalue": "name 'number_of_images' is not defined",
     "output_type": "error",
     "traceback": [
      "\u001b[1;31m---------------------------------------------------------------------------\u001b[0m",
      "\u001b[1;31mNameError\u001b[0m                                 Traceback (most recent call last)",
      "\u001b[1;32m<ipython-input-12-4aef5d28ed1c>\u001b[0m in \u001b[0;36m<module>\u001b[1;34m\u001b[0m\n\u001b[0;32m      4\u001b[0m     \u001b[1;31m# we call this \"z\" here, even though it is actually oblique images acquired by moving fast axis (x) in our system\u001b[0m\u001b[1;33m\u001b[0m\u001b[1;33m\u001b[0m\u001b[1;33m\u001b[0m\u001b[0m\n\u001b[0;32m      5\u001b[0m     \u001b[0mevents\u001b[0m \u001b[1;33m=\u001b[0m \u001b[1;33m[\u001b[0m\u001b[1;33m]\u001b[0m\u001b[1;33m\u001b[0m\u001b[1;33m\u001b[0m\u001b[0m\n\u001b[1;32m----> 6\u001b[1;33m     \u001b[1;32mfor\u001b[0m \u001b[0mz\u001b[0m \u001b[1;32min\u001b[0m \u001b[0mrange\u001b[0m\u001b[1;33m(\u001b[0m\u001b[0mnumber_of_images\u001b[0m\u001b[1;33m)\u001b[0m\u001b[1;33m:\u001b[0m\u001b[1;33m\u001b[0m\u001b[1;33m\u001b[0m\u001b[0m\n\u001b[0m\u001b[0;32m      7\u001b[0m         \u001b[0mevent\u001b[0m\u001b[1;33m.\u001b[0m\u001b[0mappend\u001b[0m\u001b[1;33m(\u001b[0m\u001b[1;33m{\u001b[0m\u001b[1;34m'axes'\u001b[0m\u001b[1;33m:\u001b[0m \u001b[1;33m{\u001b[0m\u001b[1;34m'z'\u001b[0m\u001b[1;33m:\u001b[0m \u001b[0mz\u001b[0m\u001b[1;33m}\u001b[0m\u001b[1;33m}\u001b[0m\u001b[1;33m)\u001b[0m\u001b[1;33m\u001b[0m\u001b[1;33m\u001b[0m\u001b[0m\n\u001b[0;32m      8\u001b[0m \u001b[1;33m\u001b[0m\u001b[0m\n",
      "\u001b[1;31mNameError\u001b[0m: name 'number_of_images' is not defined"
     ]
    }
   ],
   "source": [
    "if __name__ == '__main__':\n",
    "\n",
    "    # create events to hold all of the scan axis images during constant speed stage scan\n",
    "    # we call this 'z' here, even though it is actually oblique images acquired by moving scan axis (x) in our system\n",
    "    events = []\n",
    "    for z in range(number_of_images):\n",
    "        event.append({'axes': {'z': z}})\n",
    "\n",
    "    # loop through all tile axis positions\n",
    "    for y in length(tile_axis_positions_asi):\n",
    "        # move tile axis to new position\n",
    "        command = 'MOV Y='+tile_axis_positions_asi[y]\n",
    "        answer = send_Tiger_command(stage_port, command, True)\n",
    "        \n",
    "        # grab actual tile axis stage position for metadata file\n",
    "        \n",
    "        # loop through all height axis positions at current tile axis position\n",
    "        for zstage in length(height_axis_positions_asi):\n",
    "        # move height axis to new position\n",
    "        command = 'MOV M='+height_axis_positions_asi[zstage]\n",
    "        answer = send_Tiger_command(stage_port, command, True)\n",
    "        \n",
    "        # grab actual height axis position for metadata file\n",
    "        \n",
    "            # loop through all channels at current height axis and tile axis positions\n",
    "            for c in length(channel_states):\n",
    "                if channel_states[c] == 1:\n",
    "                    # set galvo controller to trigger current channel\n",
    "                    setup_galvo(galvo_port,min_12bit_value,max_12bit_value,exposure,channel,number_of_images)\n",
    "\n",
    "                    # setup file name\n",
    "                    save_name = 'scan_'+'y_'+y+'z_'+zstage+'c_'+c\n",
    "                    # run acquisition\n",
    "                    # TO DO: properly handle an error here if camera driver fails to return expected number of images.\n",
    "                    with Acquisition(directory=save_directory,name=save_name,post_camera_hook_fn=start_stage) as acq:\n",
    "                        acq.acquire(events)\n",
    "                        acq.await_completion()\n",
    "\n",
    "                    # ensure scan axis has returned to initial position\n",
    "                    command = 'STATUS';\n",
    "                    answer = send_Tiger_command(stage_port, command, True)\n",
    "\n",
    "        #-----------------------------------------------------------------------------------------------------------\n",
    "        # cycle camera mode after one tile to avoid issues with Photometrics driver not returning expected\n",
    "        # number of images. This always occurs after a acquiring large number of images in a single run (n~5 million)\n",
    "        # STATUS OF BUG: 2020.10.04 - Photometrics acknowledges this is a problem that we encounter and they verify.\n",
    "        #                             No solution offered.\n",
    "\n",
    "        # set camera into HDR readout and no trigger mode\n",
    "        core.set_config('CameraSetup','HDR_free_run')\n",
    "        core.wait_for_config('CameraSetup','HDR_free_run')\n",
    "        sleep(100)\n",
    "\n",
    "        # set camera to CMS readout and trigger first mode\n",
    "        core.set_config('CameraSetup','CMS_stage_scan')\n",
    "        core.wait_for_config('CameraSetup','CMS_stage_scan')\n",
    "        sleep(100)\n",
    "        #-----------------------------------------------------------------------------------------------------------\n",
    "        \n",
    "        \n",
    "# set camera into HDR readout and no trigger mode\n",
    "core.set_config('CameraSetup','HDR_free_run')\n",
    "core.wait_for_config('CameraSetup','HDR_free_run')"
   ]
  }
 ],
 "metadata": {
  "kernelspec": {
   "display_name": "Python 3",
   "language": "python",
   "name": "python3"
  },
  "language_info": {
   "codemirror_mode": {
    "name": "ipython",
    "version": 3
   },
   "file_extension": ".py",
   "mimetype": "text/x-python",
   "name": "python",
   "nbconvert_exporter": "python",
   "pygments_lexer": "ipython3",
   "version": "3.8.5"
  }
 },
 "nbformat": 4,
 "nbformat_minor": 4
}
