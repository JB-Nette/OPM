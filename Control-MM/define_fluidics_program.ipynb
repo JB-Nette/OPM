{
 "cells": [
  {
   "cell_type": "code",
   "execution_count": 1,
   "metadata": {},
   "outputs": [],
   "source": [
    "from fluidics.FluidicsProgramBuilder import FluidicProgramBuilder\n",
    "from hardware.APump import APump\n",
    "from hardware.HamiltonMVP import HamiltonMVP\n",
    "import numpy as np\n",
    "import pandas as pd\n",
    "import time\n",
    "\n",
    "program_builder = FluidicProgramBuilder()"
   ]
  },
  {
   "cell_type": "code",
   "execution_count": 2,
   "metadata": {},
   "outputs": [
    {
     "data": {
      "application/vnd.jupyter.widget-view+json": {
       "model_id": "fa0c565c103c4bfb811e9052a9712d74",
       "version_major": 2,
       "version_minor": 0
      },
      "text/plain": [
       "VBox(children=(Dropdown(description='Source:', options=('B01', 'B02', 'B03', 'B04', 'B05', 'B06', 'B07', 'B08'…"
      ]
     },
     "metadata": {},
     "output_type": "display_data"
    },
    {
     "data": {
      "text/html": [
       "<div>\n",
       "<style scoped>\n",
       "    .dataframe tbody tr th:only-of-type {\n",
       "        vertical-align: middle;\n",
       "    }\n",
       "\n",
       "    .dataframe tbody tr th {\n",
       "        vertical-align: top;\n",
       "    }\n",
       "\n",
       "    .dataframe thead th {\n",
       "        text-align: right;\n",
       "    }\n",
       "</style>\n",
       "<table border=\"1\" class=\"dataframe\">\n",
       "  <thead>\n",
       "    <tr style=\"text-align: right;\">\n",
       "      <th></th>\n",
       "      <th>round</th>\n",
       "      <th>source</th>\n",
       "      <th>volume</th>\n",
       "      <th>time</th>\n",
       "    </tr>\n",
       "  </thead>\n",
       "  <tbody>\n",
       "    <tr>\n",
       "      <th>0</th>\n",
       "      <td>1</td>\n",
       "      <td>SSC</td>\n",
       "      <td>2.0</td>\n",
       "      <td>6.0</td>\n",
       "    </tr>\n",
       "    <tr>\n",
       "      <th>1</th>\n",
       "      <td>1</td>\n",
       "      <td>B01</td>\n",
       "      <td>2.0</td>\n",
       "      <td>5.0</td>\n",
       "    </tr>\n",
       "    <tr>\n",
       "      <th>2</th>\n",
       "      <td>1</td>\n",
       "      <td>B01</td>\n",
       "      <td>2.0</td>\n",
       "      <td>6.0</td>\n",
       "    </tr>\n",
       "    <tr>\n",
       "      <th>3</th>\n",
       "      <td>1</td>\n",
       "      <td>PAUSE</td>\n",
       "      <td>5.0</td>\n",
       "      <td>5.0</td>\n",
       "    </tr>\n",
       "    <tr>\n",
       "      <th>4</th>\n",
       "      <td>1</td>\n",
       "      <td>READOUT WASH</td>\n",
       "      <td>2.0</td>\n",
       "      <td>9.0</td>\n",
       "    </tr>\n",
       "    <tr>\n",
       "      <th>5</th>\n",
       "      <td>1</td>\n",
       "      <td>IMAGING BUFFER</td>\n",
       "      <td>2.0</td>\n",
       "      <td>6.0</td>\n",
       "    </tr>\n",
       "    <tr>\n",
       "      <th>6</th>\n",
       "      <td>1</td>\n",
       "      <td>RUN</td>\n",
       "      <td>5.0</td>\n",
       "      <td>5.0</td>\n",
       "    </tr>\n",
       "  </tbody>\n",
       "</table>\n",
       "</div>"
      ],
      "text/plain": [
       "  round          source  volume  time\n",
       "0     1             SSC     2.0   6.0\n",
       "1     1             B01     2.0   5.0\n",
       "2     1             B01     2.0   6.0\n",
       "3     1           PAUSE     5.0   5.0\n",
       "4     1    READOUT WASH     2.0   9.0\n",
       "5     1  IMAGING BUFFER     2.0   6.0\n",
       "6     1             RUN     5.0   5.0"
      ]
     },
     "metadata": {},
     "output_type": "display_data"
    },
    {
     "data": {
      "application/vnd.jupyter.widget-view+json": {
       "model_id": "578b3903046144358c6a6e979261f370",
       "version_major": 2,
       "version_minor": 0
      },
      "text/plain": [
       "HBox(children=(Text(value='', description='Filename:', placeholder='Enter filename without path'), Button(desc…"
      ]
     },
     "metadata": {},
     "output_type": "display_data"
    }
   ],
   "source": [
    "program_builder.define_program()"
   ]
  },
  {
   "cell_type": "code",
   "execution_count": null,
   "metadata": {},
   "outputs": [],
   "source": [
    "# setup pump parameters\n",
    "pump_parameters = {'pump_com_port': 'COM3',\n",
    "                   'pump_ID': 30,\n",
    "                   'verbose': True,\n",
    "                   'simulate_pump': False,\n",
    "                   'serial_verbose': False,\n",
    "                   'flip_flow_direction': False}\n",
    "\n",
    "# connect to pump\n",
    "pump_controller = APump(pump_parameters)\n",
    "\n",
    "# set pump to remote control\n",
    "pump_controller.enableRemoteControl(True)"
   ]
  },
  {
   "cell_type": "code",
   "execution_count": null,
   "metadata": {},
   "outputs": [],
   "source": [
    "# connect to valves\n",
    "valve_controller = HamiltonMVP(com_port='COM4')\n",
    "\n",
    "# initialize valves\n",
    "valve_controller.autoAddress()\n",
    "valve_controller.autoDetectValves()"
   ]
  },
  {
   "cell_type": "code",
   "execution_count": null,
   "metadata": {},
   "outputs": [],
   "source": [
    "valve_controller.changePort(valve_ID=0,port_ID=0)\n",
    "valve_controller.changePort(valve_ID=1,port_ID=0)\n",
    "valve_controller.changePort(valve_ID=2,port_ID=0)\n",
    "valve_controller.changePort(valve_ID=3,port_ID=0)"
   ]
  },
  {
   "cell_type": "code",
   "execution_count": 9,
   "metadata": {},
   "outputs": [
    {
     "data": {
      "text/plain": [
       "1"
      ]
     },
     "execution_count": 9,
     "metadata": {},
     "output_type": "execute_result"
    }
   ],
   "source": [
    "df_program['round'].max()"
   ]
  },
  {
   "cell_type": "code",
   "execution_count": 8,
   "metadata": {},
   "outputs": [
    {
     "name": "stdout",
     "output_type": "stream",
     "text": [
      "0.33\n",
      "Pump setting: 9.0\n",
      "0.4\n",
      "Pump setting: 10.0\n",
      "0.33\n",
      "Pump setting: 9.0\n",
      "pausing for:300.0 seconds.\n",
      "0.22\n",
      "Pump setting: 5.0\n",
      "0.33\n",
      "Pump setting: 9.0\n",
      "Fluidics round done, running imaging.\n"
     ]
    }
   ],
   "source": [
    "df_program = pd.read_csv('test_003.csv')\n",
    "r=0\n",
    "\n",
    "# select current round\n",
    "df_current_program = df_program[(df_program['round']==r+1)]\n",
    "\n",
    "for index, row in df_current_program.iterrows():\n",
    "    # extract source name\n",
    "    source_name = str(row['source'])\n",
    "\n",
    "    # extract volume to pump and time\n",
    "    pump_amount_ml = float(row['volume'])\n",
    "    pump_time_min = float(row['time'])           \n",
    "    \n",
    "    if source_name == 'RUN':\n",
    "        print('Fluidics round done, running imaging.')\n",
    "    elif source_name == 'PAUSE':\n",
    "        print('pausing for:' +str(pump_time_min*60)+' seconds.')\n",
    "    else:\n",
    "        # convert ml/min rate to pump rate\n",
    "        # this is hardcoded to our fluidic setup\n",
    "        # please check for your own setup\n",
    "        pump_rate = -1.0\n",
    "\n",
    "        print(np.round((pump_amount_ml/pump_time_min),2))\n",
    "\n",
    "        if np.round((pump_amount_ml/pump_time_min),2) == 0.50:\n",
    "            pump_rate = 11.0\n",
    "        elif np.round((pump_amount_ml/pump_time_min),2) == 0.40:\n",
    "            pump_rate = 10.0\n",
    "        elif np.round((pump_amount_ml/pump_time_min),2) == 0.33:\n",
    "            pump_rate = 9.0\n",
    "        elif np.round((pump_amount_ml/pump_time_min),2) == 0.22:\n",
    "            pump_rate = 5.0\n",
    "\n",
    "        print('Pump setting: '+str(pump_rate))\n",
    "\n",
    "        if pump_rate == -1.0:\n",
    "            print('Error in determining pump rate. Exiting.')\n",
    "            sys.exit()"
   ]
  }
 ],
 "metadata": {
  "kernelspec": {
   "display_name": "Python 3",
   "language": "python",
   "name": "python3"
  },
  "language_info": {
   "codemirror_mode": {
    "name": "ipython",
    "version": 3
   },
   "file_extension": ".py",
   "mimetype": "text/x-python",
   "name": "python",
   "nbconvert_exporter": "python",
   "pygments_lexer": "ipython3",
   "version": "3.8.5"
  }
 },
 "nbformat": 4,
 "nbformat_minor": 2
}
